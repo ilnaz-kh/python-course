{
 "cells": [
  {
   "cell_type": "markdown",
   "metadata": {},
   "source": [
    "## Exercise 26"
   ]
  },
  {
   "cell_type": "code",
   "execution_count": 1,
   "metadata": {},
   "outputs": [],
   "source": [
    "import mysql.connector\n",
    "from mysql.connector import Error"
   ]
  },
  {
   "cell_type": "markdown",
   "metadata": {},
   "source": [
    "### Class: Database\n",
    "### Description: A class for managing database operations."
   ]
  },
  {
   "cell_type": "code",
   "execution_count": 2,
   "metadata": {},
   "outputs": [],
   "source": [
    "class Database:\n",
    "    def __init__(self, host, user, password, database=None):\n",
    "        self.host = host\n",
    "        self.user = user\n",
    "        self.password = password\n",
    "        self.database = database\n",
    "        self.connection = None\n",
    "        self.cursor = None\n",
    "        self.connect()\n",
    " \n",
    "    \n",
    "    def connect(self):\n",
    "        try:\n",
    "            self.connection = mysql.connector.connect(\n",
    "                host=self.host,\n",
    "                user=self.user,\n",
    "                password=self.password,\n",
    "                database=self.database\n",
    "            )\n",
    "            self.cursor = self.connection.cursor()\n",
    "        except Error as e:\n",
    "            print(e)\n",
    "\n",
    "\n",
    "    def create_database(self, name):\n",
    "        try:\n",
    "            sql = f\"CREATE DATABASE IF NOT EXISTS {name}\"\n",
    "            self.cursor.execute(sql)\n",
    "            self.connection.database = name\n",
    "            self.database = name\n",
    "            print(\"Database Created!\")\n",
    "        except Error as e:\n",
    "            print(e)\n",
    "\n",
    "\n",
    "    def create_table(self, table_sql):\n",
    "        try:\n",
    "            self.cursor.execute(table_sql)\n",
    "            print(f\"{table_sql}: created\")\n",
    "        except Error as e:\n",
    "            print(e)\n",
    "\n",
    "\n",
    "    def execute_query(self, query, params=None):\n",
    "        try:\n",
    "            self.cursor.execute(query, params or ())\n",
    "            if self.cursor.with_rows:\n",
    "                return self.cursor.fetchall()\n",
    "        except Error as e:\n",
    "            print(e)\n",
    "\n",
    "\n",
    "    def commit(self):\n",
    "        self.connection.commit()\n",
    "\n",
    "   \n",
    "    def close(self):\n",
    "        self.connection.close()"
   ]
  },
  {
   "cell_type": "markdown",
   "metadata": {},
   "source": [
    "### Class: User\n",
    "### Description: A class for managing user operations."
   ]
  },
  {
   "cell_type": "code",
   "execution_count": 3,
   "metadata": {},
   "outputs": [],
   "source": [
    "class User:\n",
    "    def __init__(self, db):\n",
    "        self.db = db\n",
    "\n",
    "    \n",
    "    def register_member(self, name, email, phone, username, password):\n",
    "        ## Checking uniqueness of username:\n",
    "        query = \"SELECT username from users WHERE username = %s\"\n",
    "        result = self.db.execute_query(query, (username,))\n",
    "        if not result:\n",
    "            query = \"INSERT INTO users (name, email, phone, username, password) VALUES (%s, %s, %s, %s, %s)\"\n",
    "            self.db.execute_query(query, (name, email, phone, username, password))\n",
    "            self.db.commit()\n",
    "        else:\n",
    "            print(f\"The provided username `{username}` is already exists.\")\n",
    "\n",
    "\n",
    "    def member_login(self, username, password):\n",
    "        query = \"SELECT * from users WHERE username = %s and password = %s\"\n",
    "        result = self.db.execute_query(query, (username, password))\n",
    "        if result:\n",
    "            print(\"The login was successful.\")\n",
    "        else:\n",
    "            print(\"The provided username or password is invalid.\")\n",
    "\n",
    "\n",
    "    def show_profile_details(self, username):\n",
    "        query = \"SELECT name, email, phone FROM users where username = %s\"\n",
    "        result = self.db.execute_query(query, (username,))\n",
    "        if result:\n",
    "            print(\"Name      Email         Phone\\n\" + \"-\"*40)\n",
    "            for field in result[0]:\n",
    "                print(field, end=\"\\t\")\n",
    "        else:\n",
    "            print(f\"No user was found for the provided username '{username}'.\")\n"
   ]
  },
  {
   "cell_type": "markdown",
   "metadata": {},
   "source": [
    "### Class: Employee\n",
    "### Description: A class for managing employee operations."
   ]
  },
  {
   "cell_type": "code",
   "execution_count": 4,
   "metadata": {},
   "outputs": [],
   "source": [
    "class Employee:\n",
    "    def __init__(self, db):\n",
    "        self.db = db\n",
    "\n",
    "    def add_employee(self, name, email, phone, position, username, password):\n",
    "        ## Checking uniqueness of username:\n",
    "        query = \"SELECT username from employees WHERE username = %s\"\n",
    "        result = self.db.execute_query(query, (username,))\n",
    "        if not result:\n",
    "            query = \"INSERT INTO employees (name, email, phone, position, username, password) VALUES (%s, %s, %s, %s, %s, %s)\"\n",
    "            self.db.execute_query(query, (name, email, phone, position, username, password))\n",
    "            self.db.commit()\n",
    "        else:\n",
    "            print(f\"The provided username `{username}` is already exists.\")\n",
    "\n",
    "\n",
    "    def show_employee_details(self, username):\n",
    "        query = \"SELECT name, email, phone, position FROM employees where username = %s\"\n",
    "        result = self.db.execute_query(query, (username,))\n",
    "        if result:\n",
    "            print(\"Name      Email         Phone        Position\\n\" + \"-\"*50)\n",
    "            for field in result[0]:\n",
    "                print(field, end=\"\\t\")\n",
    "        else:\n",
    "            print(f\"No employee was found for the provided username '{username}'.\")\n",
    "        "
   ]
  },
  {
   "cell_type": "markdown",
   "metadata": {},
   "source": [
    "### Class: Book\n",
    "### Description: A class for managing book operations."
   ]
  },
  {
   "cell_type": "code",
   "execution_count": 5,
   "metadata": {},
   "outputs": [],
   "source": [
    "class Book:\n",
    "    def __init__(self, db):\n",
    "        self.db = db\n",
    "        \n",
    "\n",
    "    def add_book(self, title, author, genre, publication_year, edition):\n",
    "        query = \"INSERT INTO books (title, author, genre, publication_year, edition, availability) VALUES (%s, %s, %s, %s, %s, %s)\"\n",
    "        self.db.execute_query(query, (title, author, genre, publication_year, edition, True))\n",
    "        self.db.commit()\n",
    "\n",
    "\n",
    "    def update_book_info(self, **kwargs):\n",
    "        ## Updating a book is based on its id, so the kwargs dictionary must inclue the `id` key. \n",
    "        ## the other items in kwargs are used for updating author, publication_year and genre\n",
    "        book_id = kwargs.get('id')\n",
    "        if not book_id: \n",
    "            print(\"The `kwargs` parameter must include an `id` argument that represents the book ID to be updated.\")\n",
    "            return\n",
    "        ## removing `id` key from kwargs\n",
    "        kwargs.pop('id')\n",
    "        ## Iterating over the Python kwargs dictionary (remaining items are update options)\n",
    "        q_update_options = []\n",
    "        params = []\n",
    "        for coloumn, new_val in kwargs.items():\n",
    "            q_update_options.append(f\"{coloumn} = %s\")\n",
    "            params.append(new_val)\n",
    "        q_update_options_str = \", \".join(q_update_options)\n",
    "        query = f\"UPDATE books SET {q_update_options_str} WHERE id = {book_id}\"\n",
    "        self.db.execute_query(query, tuple(params))\n",
    "            \n",
    "\n",
    "    def search_books(self, **kwargs):\n",
    "        ## search by title, author and genre\n",
    "        ## Iterating over the Python kwargs dictionary\n",
    "        q_conditions = []\n",
    "        params = []\n",
    "        for coloumn, s_term in kwargs.items():\n",
    "            q_conditions.append(f\"{coloumn} LIKE '%{s_term}%'\")\n",
    "        q_conditions_string = \" AND \".join(q_conditions)\n",
    "        query = f\"SELECT * FROM books WHERE {q_conditions_string}\" \n",
    "        result = self.db.execute_query(query)\n",
    "        if result:\n",
    "            print(\"Search Results:\")\n",
    "            for item in result:\n",
    "                print(item)\n",
    "        else:\n",
    "            print(\"Nothing Found!\")\n",
    "            "
   ]
  },
  {
   "cell_type": "markdown",
   "metadata": {},
   "source": [
    "### Defining tables:"
   ]
  },
  {
   "cell_type": "code",
   "execution_count": 6,
   "metadata": {},
   "outputs": [],
   "source": [
    "tables = {\n",
    "    'users': \"\"\"\n",
    "        CREATE TABLE IF NOT EXISTS users(\n",
    "            id INT AUTO_INCREMENT,\n",
    "            username VARCHAR(255) NOT NULL,\n",
    "            password VARCHAR(255) NOT NULL,\n",
    "            name VARCHAR(255) NOT NULL,\n",
    "            email  VARCHAR(255) NOT NULL,\n",
    "            phone VARCHAR(255) NOT NULL,\n",
    "            PRIMARY KEY (id)\n",
    "        );\n",
    "    \"\"\",\n",
    "    'employees': \"\"\"\n",
    "        CREATE TABLE IF NOT EXISTS employees(\n",
    "            id INT AUTO_INCREMENT,\n",
    "            username VARCHAR(255) NOT NULL,\n",
    "            password VARCHAR(255) NOT NULL,\n",
    "            name VARCHAR(255) NOT NULL,\n",
    "            email  VARCHAR(255) NOT NULL,\n",
    "            phone VARCHAR(255) NOT NULL,\n",
    "            position VARCHAR(255) NOT NULL,\n",
    "            PRIMARY KEY (id)\n",
    "        );\n",
    "    \"\"\",\n",
    "    'books': \"\"\"\n",
    "        CREATE TABLE IF NOT EXISTS books(\n",
    "            id INT AUTO_INCREMENT,\n",
    "            title VARCHAR(255) NOT NULL,\n",
    "            author VARCHAR(255) NOT NULL,\n",
    "            genre VARCHAR(255) NOT NULL,\n",
    "            publication_year YEAR,\n",
    "            edition INT,\n",
    "            availability BOOL NOT NULL,\n",
    "            PRIMARY KEY (id)\n",
    "        );\n",
    "    \"\"\"\n",
    "}\n"
   ]
  },
  {
   "cell_type": "markdown",
   "metadata": {},
   "source": [
    "### main part of the program"
   ]
  },
  {
   "cell_type": "code",
   "execution_count": 7,
   "metadata": {},
   "outputs": [
    {
     "name": "stdout",
     "output_type": "stream",
     "text": [
      "Database Created!\n"
     ]
    }
   ],
   "source": [
    "from configparser import ConfigParser \n",
    "## Retrieve the relevant information of the MySQL connection from a configuration file named `config.ini`\n",
    "configur = ConfigParser() \n",
    "configur.read('config.ini')\n",
    "host = configur['MySQL']['host']\n",
    "user = configur['MySQL']['user']\n",
    "password = configur['MySQL']['password']\n",
    "database = configur['MySQL']['database']\n",
    "\n",
    "db_info = {\n",
    "    'host': host,\n",
    "    'user': user,\n",
    "    'password': password\n",
    "}\n",
    "db = Database(**db_info)\n",
    "## Creating and Connecting to the Database:\n",
    "db.create_database(database)\n"
   ]
  },
  {
   "cell_type": "code",
   "execution_count": 8,
   "metadata": {},
   "outputs": [
    {
     "name": "stdout",
     "output_type": "stream",
     "text": [
      "[]\n"
     ]
    }
   ],
   "source": [
    "query = \"SHOW TABLES\"\n",
    "print(db.execute_query(query))\n"
   ]
  },
  {
   "cell_type": "markdown",
   "metadata": {},
   "source": [
    "### Creating tables (users, employees and books)"
   ]
  },
  {
   "cell_type": "code",
   "execution_count": 9,
   "metadata": {},
   "outputs": [
    {
     "name": "stdout",
     "output_type": "stream",
     "text": [
      "\n",
      "        CREATE TABLE IF NOT EXISTS users(\n",
      "            id INT AUTO_INCREMENT,\n",
      "            username VARCHAR(255) NOT NULL,\n",
      "            password VARCHAR(255) NOT NULL,\n",
      "            name VARCHAR(255) NOT NULL,\n",
      "            email  VARCHAR(255) NOT NULL,\n",
      "            phone VARCHAR(255) NOT NULL,\n",
      "            PRIMARY KEY (id)\n",
      "        );\n",
      "    : created\n",
      "\n",
      "        CREATE TABLE IF NOT EXISTS employees(\n",
      "            id INT AUTO_INCREMENT,\n",
      "            username VARCHAR(255) NOT NULL,\n",
      "            password VARCHAR(255) NOT NULL,\n",
      "            name VARCHAR(255) NOT NULL,\n",
      "            email  VARCHAR(255) NOT NULL,\n",
      "            phone VARCHAR(255) NOT NULL,\n",
      "            position VARCHAR(255) NOT NULL,\n",
      "            PRIMARY KEY (id)\n",
      "        );\n",
      "    : created\n",
      "\n",
      "        CREATE TABLE IF NOT EXISTS books(\n",
      "            id INT AUTO_INCREMENT,\n",
      "            title VARCHAR(255) NOT NULL,\n",
      "            author VARCHAR(255) NOT NULL,\n",
      "            genre VARCHAR(255) NOT NULL,\n",
      "            publication_year YEAR,\n",
      "            edition INT,\n",
      "            availability BOOL NOT NULL,\n",
      "            PRIMARY KEY (id)\n",
      "        );\n",
      "    : created\n"
     ]
    }
   ],
   "source": [
    "for table in tables.values():\n",
    "    db.create_table(table)\n",
    "    "
   ]
  },
  {
   "cell_type": "code",
   "execution_count": 10,
   "metadata": {},
   "outputs": [
    {
     "name": "stdout",
     "output_type": "stream",
     "text": [
      "[('books',), ('employees',), ('users',)]\n"
     ]
    }
   ],
   "source": [
    "query = \"SHOW TABLES\"\n",
    "print(db.execute_query(query))\n"
   ]
  },
  {
   "cell_type": "markdown",
   "metadata": {},
   "source": [
    "### Testing methods of the `User` class"
   ]
  },
  {
   "cell_type": "code",
   "execution_count": 11,
   "metadata": {},
   "outputs": [],
   "source": [
    "user = User(db)\n"
   ]
  },
  {
   "cell_type": "code",
   "execution_count": 12,
   "metadata": {},
   "outputs": [
    {
     "name": "stdout",
     "output_type": "stream",
     "text": [
      "The provided username `username1` is already exists.\n"
     ]
    }
   ],
   "source": [
    "user.register_member('n1', 'e1@yahoo.com', '03142264556', 'username1', 'pass')\n",
    "user.register_member('n2', 'e2@yahoo.com', '02142261234', 'username2', 'pass')\n",
    "user.register_member('n3', 'e3@yahoo.com', '06142266789', 'username3', 'pass')\n",
    "user.register_member('n5', 'e5@yahoo.com', '0615326543', 'username1', 'pass2') # Error\n"
   ]
  },
  {
   "cell_type": "code",
   "execution_count": 13,
   "metadata": {},
   "outputs": [
    {
     "name": "stdout",
     "output_type": "stream",
     "text": [
      "(1, 'username1', 'pass', 'n1', 'e1@yahoo.com', '03142264556')\n",
      "(2, 'username2', 'pass', 'n2', 'e2@yahoo.com', '02142261234')\n",
      "(3, 'username3', 'pass', 'n3', 'e3@yahoo.com', '06142266789')\n"
     ]
    }
   ],
   "source": [
    "query = \"SELECT * FROM users\"\n",
    "items = db.execute_query(query)\n",
    "for item in items:\n",
    "    print(item)\n",
    "    "
   ]
  },
  {
   "cell_type": "code",
   "execution_count": 15,
   "metadata": {},
   "outputs": [
    {
     "name": "stdout",
     "output_type": "stream",
     "text": [
      "The login was successful.\n",
      "The provided username or password is invalid.\n",
      "--------------------------------------------------\n",
      "No user was found for the provided username 'username10'.\n",
      "--------------------------------------------------\n",
      "Name      Email         Phone\n",
      "----------------------------------------\n",
      "n3\te3@yahoo.com\t06142266789\t"
     ]
    }
   ],
   "source": [
    "user.member_login('username1', 'pass') # Successful\n",
    "user.member_login('username1', 'pass1') # Faild\n",
    "print(\"-\"* 50)\n",
    "user.show_profile_details(username= 'username10') # Not found\n",
    "print(\"-\"* 50)\n",
    "user.show_profile_details(username= 'username3')\n"
   ]
  },
  {
   "cell_type": "markdown",
   "metadata": {},
   "source": [
    "### Testing methods of the `Employee` class"
   ]
  },
  {
   "cell_type": "code",
   "execution_count": 16,
   "metadata": {},
   "outputs": [],
   "source": [
    "emp = Employee(db)\n"
   ]
  },
  {
   "cell_type": "code",
   "execution_count": 17,
   "metadata": {},
   "outputs": [],
   "source": [
    "emp.add_employee('n3', 'e3@gmail.com', '09345678901', 'Circulation Clerk', 'user1', 'pass')\n",
    "emp.add_employee('n4', 'e4@gmail.com', '09123456789', 'Librarian', 'user2', 'pass')\n"
   ]
  },
  {
   "cell_type": "code",
   "execution_count": 18,
   "metadata": {},
   "outputs": [
    {
     "name": "stdout",
     "output_type": "stream",
     "text": [
      "(1, 'user1', 'pass', 'n3', 'e3@gmail.com', '09345678901', 'Circulation Clerk')\n",
      "(2, 'user2', 'pass', 'n4', 'e4@gmail.com', '09123456789', 'Librarian')\n"
     ]
    }
   ],
   "source": [
    "query = \"SELECT * FROM employees\"\n",
    "items = db.execute_query(query)\n",
    "for item in items:\n",
    "    print(item)\n",
    "    "
   ]
  },
  {
   "cell_type": "code",
   "execution_count": 19,
   "metadata": {},
   "outputs": [
    {
     "name": "stdout",
     "output_type": "stream",
     "text": [
      "No employee was found for the provided username 'user0'.\n",
      "--------------------------------------------------\n",
      "Name      Email         Phone        Position\n",
      "--------------------------------------------------\n",
      "n3\te3@gmail.com\t09345678901\tCirculation Clerk\t"
     ]
    }
   ],
   "source": [
    "emp.show_employee_details('user0') # Not found\n",
    "print(\"-\"* 50)\n",
    "emp.show_employee_details('user1')\n"
   ]
  },
  {
   "cell_type": "markdown",
   "metadata": {},
   "source": [
    "### Testing methods of the `Book` class"
   ]
  },
  {
   "cell_type": "code",
   "execution_count": 20,
   "metadata": {},
   "outputs": [],
   "source": [
    "b_obj = Book(db)\n"
   ]
  },
  {
   "cell_type": "code",
   "execution_count": 21,
   "metadata": {},
   "outputs": [
    {
     "name": "stdout",
     "output_type": "stream",
     "text": [
      "(1, 'One Hundred Years of Solitude', 'a1', 'g1', 1967, 1, 1)\n",
      "(2, 'Animal Farm', 'a2', 'Allegory', 1930, 1, 1)\n",
      "(3, 'Love in the Time of Cholera', 'Gabriel Garcia Marquez', 'Romance Novel', 1985, 1, 1)\n"
     ]
    }
   ],
   "source": [
    "## Testing `add_book` method of the `Book` class\n",
    "b_obj.add_book(\"One Hundred Years of Solitude\", \"a1\", \"g1\", '1967', 1)\n",
    "b_obj.add_book(\"Animal Farm\", \"a2\", \"Allegory\", '1930', 1)\n",
    "b_obj.add_book(\"Love in the Time of Cholera\", \"Gabriel Garcia Marquez\", \"Romance Novel\", '1985', 1)\n",
    "\n",
    "query = \"SELECT * FROM books\"\n",
    "items = db.execute_query(query)\n",
    "for item in items:\n",
    "    print(item)\n"
   ]
  },
  {
   "cell_type": "code",
   "execution_count": 22,
   "metadata": {},
   "outputs": [
    {
     "name": "stdout",
     "output_type": "stream",
     "text": [
      "1054 (42S22): Unknown column 'dummy_col' in 'field list'\n",
      "The `kwargs` parameter must include an `id` argument that represents the book ID to be updated.\n",
      "--------------------------------------------------\n",
      "(1, 'One Hundred Years of Solitude', 'Gabriel Garcia Marquez', 'Magical Realism', 1967, 1, 1)\n",
      "(2, 'Animal Farm', 'George Orwell', 'Allegory', 1945, 1, 1)\n",
      "(3, 'Love in the Time of Cholera', 'Gabriel Garcia Marquez', 'Romance Novel', 1985, 1, 1)\n"
     ]
    }
   ],
   "source": [
    "## Testing `update_book_info` method of the `Book` class\n",
    "b_obj.update_book_info(id= 1, genre= \"Magical Realism\", author= \"Gabriel Garcia Marquez\")\n",
    "b_obj.update_book_info(id= 2, publication_year= '1945', author= \"George Orwell\")\n",
    "b_obj.update_book_info(id= 3, dummy_col= \"value\") # prints handled Error\n",
    "b_obj.update_book_info(author= \"Haroki Morakami\") # prints handled Error: `id` is missing\n",
    "print(\"-\"* 50)\n",
    "query = \"SELECT * FROM books\"\n",
    "items = db.execute_query(query)\n",
    "for item in items:\n",
    "    print(item)\n",
    "    "
   ]
  },
  {
   "cell_type": "code",
   "execution_count": 23,
   "metadata": {},
   "outputs": [
    {
     "name": "stdout",
     "output_type": "stream",
     "text": [
      "Search Results:\n",
      "(1, 'One Hundred Years of Solitude', 'Gabriel Garcia Marquez', 'Magical Realism', 1967, 1, 1)\n",
      "(3, 'Love in the Time of Cholera', 'Gabriel Garcia Marquez', 'Romance Novel', 1985, 1, 1)\n",
      "--------------------------------------------------\n",
      "Search Results:\n",
      "(1, 'One Hundred Years of Solitude', 'Gabriel Garcia Marquez', 'Magical Realism', 1967, 1, 1)\n",
      "(3, 'Love in the Time of Cholera', 'Gabriel Garcia Marquez', 'Romance Novel', 1985, 1, 1)\n",
      "--------------------------------------------------\n",
      "Nothing Found!\n"
     ]
    }
   ],
   "source": [
    "## Testing `search_books` method of the `Book` class\n",
    "b_obj.search_books(author= 'Marquez')\n",
    "print(\"-\"* 50)\n",
    "b_obj.search_books(title= 'of', author='Gabriel')\n",
    "print(\"-\"* 50)\n",
    "b_obj.search_books(genre= 'Thriller') # Not found"
   ]
  },
  {
   "cell_type": "markdown",
   "metadata": {},
   "source": [
    "### Closing the connection to database"
   ]
  },
  {
   "cell_type": "code",
   "execution_count": 23,
   "metadata": {},
   "outputs": [],
   "source": [
    "db.close()"
   ]
  }
 ],
 "metadata": {
  "kernelspec": {
   "display_name": "base",
   "language": "python",
   "name": "python3"
  },
  "language_info": {
   "codemirror_mode": {
    "name": "ipython",
    "version": 3
   },
   "file_extension": ".py",
   "mimetype": "text/x-python",
   "name": "python",
   "nbconvert_exporter": "python",
   "pygments_lexer": "ipython3",
   "version": "3.10.9"
  }
 },
 "nbformat": 4,
 "nbformat_minor": 2
}
