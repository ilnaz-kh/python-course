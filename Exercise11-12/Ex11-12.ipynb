{
 "cells": [
  {
   "cell_type": "markdown",
   "id": "ead54e1a",
   "metadata": {},
   "source": [
    "<div style=\"color: white;padding-top:18px;text-align:center;background-color:#610C9F;border-radius:15px;border: 1px solid white;\"> \n",
    "    <h3>Exercise 11 (score:350\n",
    "    )</h3>\n",
    "</div>"
   ]
  },
  {
   "cell_type": "markdown",
   "id": "9986a78d",
   "metadata": {},
   "source": [
    "<div style=\"color: white;padding-top:18px;text-align:left;background-color:#940B92;border-radius:15px;border: 1px solid white;\"> \n",
    "    <h4>Question 01 (Tuple):</h4>\n",
    "    <p> Create a Python program with below details:\n",
    "Input a count of students. \n",
    "Collect each student's unique ID, name, and score into tuples. \n",
    "Store these tuples in a list. \n",
    "Input a name to search the list. \n",
    "Display the matching student's details, if found..\n",
    "\n",
    "</p>\n",
    "</div>"
   ]
  },
  {
   "cell_type": "code",
   "execution_count": 2,
   "id": "7710ae23",
   "metadata": {},
   "outputs": [
    {
     "name": "stdout",
     "output_type": "stream",
     "text": [
      "Enter number of students: 4\n",
      "Student_1's ID: 1234\n",
      "Student_1's name: ali\n",
      "Student_1's score: 17\n",
      "Student_2's ID: 1345\n",
      "Student_2's name: reza\n",
      "Student_2's score: 19\n",
      "Student_3's ID: 1234\n",
      "ID should be unique!\n",
      "Student_4's ID: 2345\n",
      "Student_4's name: ali\n",
      "Student_4's score: 13\n",
      "Students: \n",
      "[('1234', 'ali', 17.0), ('1345', 'reza', 19.0), ('2345', 'ali', 13.0)]\n",
      "Enter a student's name to search: ali\n",
      "ID: 1234, Name: ali, Score: 17.0\n",
      "ID: 2345, Name: ali, Score: 13.0\n"
     ]
    }
   ],
   "source": [
    "std_count = int(input(\"Enter number of students: \"))\n",
    "\n",
    "students = [] # [(id_1, name_1, score_1), (id_2, name_2, score_2), ...]\n",
    "for i in range(std_count):\n",
    "    unique = True\n",
    "    std_id = input(f\"Student_{i+1}'s ID: \") # type(std_id) = str\n",
    "    ## Checking uniqueness of ID:\n",
    "    for student in students: # student is a tuple\n",
    "        if student[0] == std_id: # student's ID is not unique\n",
    "            print(\"ID should be unique!\")\n",
    "            unique = False\n",
    "            break\n",
    "    if unique:\n",
    "        std_name = input(f\"Student_{i+1}'s name: \")\n",
    "        std_score = float(input(f\"Student_{i+1}'s score: \"))\n",
    "        students.append((std_id, std_name, std_score)) # Store the student tuple in the students list\n",
    "\n",
    "print(f\"Students: \\n{students}\")\n",
    "\n",
    "## Search for a student's name:\n",
    "name = input(\"Enter a student's name to search: \")\n",
    "found = False\n",
    "for student in students:\n",
    "    if student[1] == name:\n",
    "        found = True\n",
    "        print(f\"ID: {student[0]}, Name: {student[1]}, Score: {student[2]}\")\n",
    "if not found:\n",
    "    print(\"Not found!\")"
   ]
  },
  {
   "cell_type": "markdown",
   "id": "488e01d2",
   "metadata": {},
   "source": [
    "<div style=\"color: white;padding-top:18px;text-align:left;background-color:#940B92;border-radius:15px;border: 1px solid white;\"> \n",
    "    <h4>Question 02 (Set)</h4>\n",
    "<p>\n",
    "Given two lists: list1 = [1, 2, 3, 4, 5, 6, 6, 7] and list2 = [5, 6, 7, 8, 9], write a \n",
    "program to create a list that contains only the unique elements from \n",
    "both list1 and list2. (using set)\n",
    "</p>\n"
   ]
  },
  {
   "cell_type": "code",
   "execution_count": 3,
   "id": "0d6db2ad",
   "metadata": {},
   "outputs": [
    {
     "name": "stdout",
     "output_type": "stream",
     "text": [
      "[1, 2, 3, 4, 5, 6, 7, 8, 9]\n",
      "<class 'list'>\n"
     ]
    }
   ],
   "source": [
    "list1 = [1, 2, 3, 4, 5, 6, 6, 7] \n",
    "list2 = [5, 6, 7, 8, 9]\n",
    "list3 = list(set(list1 + list2))\n",
    "print(list3)\n",
    "print(type(list3))"
   ]
  },
  {
   "cell_type": "markdown",
   "id": "021be85c",
   "metadata": {},
   "source": [
    "<div style=\"color: white;padding-top:18px;text-align:left;background-color:#940B92;border-radius:15px;border: 1px solid white;\"> \n",
    "    <h4>Question 03 (Set)</h4>\n",
    "<p>\n",
    "Given a list items containing strings (filenames with extensions) and \n",
    "integers, write a Python program to extract and display the unique file \n",
    "extensions from the filenames in the list. Non-string items should be \n",
    "ignored.\n",
    "</p>\n",
    "\n",
    "</div>"
   ]
  },
  {
   "cell_type": "code",
   "execution_count": 4,
   "id": "32b3c29d",
   "metadata": {},
   "outputs": [
    {
     "name": "stdout",
     "output_type": "stream",
     "text": [
      "Unique extensions are:\n",
      "['docx', 'py', 'txt', 'pdf', 'ipynb']\n"
     ]
    }
   ],
   "source": [
    "mixed_list = ['a.txt', 111, 'python.py', 'b.txt', 'ebook.pdf', 12, 15, 'code.ipynb', 'word.docx', 'doc.txt']\n",
    "exts = []\n",
    "for element in mixed_list:\n",
    "    if type(element) == str: # ignores non-string items\n",
    "        ext = element.split('.')[-1]\n",
    "        exts.append(ext)\n",
    "exts = list(set(exts))\n",
    "print(f\"Unique extensions are:\\n{exts}\")\n",
    "\n"
   ]
  },
  {
   "cell_type": "markdown",
   "id": "b6999fc2",
   "metadata": {},
   "source": [
    "<div style=\"color: white;padding-top:18px;text-align:left;background-color:#940B92;border-radius:15px;border: 1px solid white;\"> \n",
    "    <h4>Question 04 (Tuple)</h4>\n",
    "<p>\n",
    " Given dictionary books with book titles and their authors, perform the \n",
    "following:\n",
    "</p>\n",
    "\n",
    "<ul>\n",
    "1.Shallow Copy Experiment:\n",
    "<ul>•Make a shallow copy of books.</ul>\n",
    "<ul>•Add \"Author D\" to \"Book1\" in this copy.</ul>\n",
    "<ul>•Compare changes in the original dictionary.</ul>\n",
    "</ul>\n",
    "<ul>\n",
    "2.Deep Copy Experiment:\n",
    "<ul>•Create a deep copy of books.</ul>\n",
    "<ul>•Add \"Author E\" to \"Book1\" in the deep copy</ul>\n",
    "<ul>•Discuss differences observed between the shallow and deep copy results.</ul>\n",
    "</ul>\n",
    "</div>"
   ]
  },
  {
   "cell_type": "code",
   "execution_count": 5,
   "id": "0bf5d625",
   "metadata": {},
   "outputs": [
    {
     "name": "stdout",
     "output_type": "stream",
     "text": [
      "Original Books, Book1's authors: ['Author A', 'Author B', 'Author D']\n",
      "Shallow Copy of Books, Book1's authors: ['Author A', 'Author B', 'Author D']\n",
      "Modifying the inner dictionary in a shallow copy, will modify the original dictionary as well.\n",
      "Because the inners dictionaries have the same IDs through shallow copy, and Dictionaries are mutable in python:\n",
      "ID of Book1 in original Books: 2824698401664\n",
      "ID of Book1 in shallow copy of Books: 2824698401664\n",
      "---------------------------------------------------------------------------\n",
      "Original Books, Book1's authors: ['Author A', 'Author B']\n",
      "Shallow Copy of Books, Book1's authors: ['Author A', 'Author B', 'Author E']\n",
      "Modifying the inner dictionary in a deep copy, will not effect on the original dictionary.\n",
      "Because the inners dictionaries have different IDs through deep copy:\n",
      "ID of Book1 in original Books: 2824698406080\n",
      "ID of Book1 in deep copy of Books: 2824698403584\n"
     ]
    }
   ],
   "source": [
    "## 1. Shallow Copy Experiment\n",
    "books ={\n",
    "    \"Book1\" : {\"title\" : \"Learn Python\",\n",
    "              \"authors\" : [\"Author A\", \"Author B\"]\n",
    "    },\n",
    "    \"Book2\" : {\"title\" : \"AI Basics\",\n",
    "               \"authors\" : [\"Author C\"]\n",
    "    }\n",
    "}\n",
    "## Shallow Copy:\n",
    "books_shallow_copy = dict(books)\n",
    "## Add \"Author D\" to the Book1 in the copy of books:\n",
    "books_shallow_copy[\"Book1\"][\"authors\"].append(\"Author D\")\n",
    "## Compare changes in the original dictionary:\n",
    "print(f\"Original Books, Book1's authors: {books['Book1']['authors']}\")\n",
    "print(f\"Shallow Copy of Books, Book1's authors: {books_shallow_copy['Book1']['authors']}\")\n",
    "print(\"Modifying the inner dictionary in a shallow copy, will modify the original dictionary as well.\")\n",
    "print(\"Because the inners dictionaries have the same IDs through shallow copy, and Dictionaries are mutable in python:\")\n",
    "print(f\"ID of Book1 in original Books: {id(books['Book1'])}\")\n",
    "print(f\"ID of Book1 in shallow copy of Books: {id(books_shallow_copy['Book1'])}\")\n",
    "print(\"---------------------------------------------------------------------------\")\n",
    "\n",
    "## 2. Deep Copy Experiment\n",
    "books ={\n",
    "    \"Book1\" : {\"title\" : \"Learn Python\",\n",
    "              \"authors\" : [\"Author A\", \"Author B\"]\n",
    "    },\n",
    "    \"Book2\" : {\"title\" : \"AI Basics\",\n",
    "               \"authors\" : [\"Author C\"]\n",
    "    }\n",
    "}\n",
    "## Deep Copy\n",
    "import copy\n",
    "books_deep_copy = copy.deepcopy(books)\n",
    "## Add \"Author E\" to the Book1 in the copy of books:\n",
    "books_deep_copy[\"Book1\"][\"authors\"].append(\"Author E\")\n",
    "## Compare changes in the original dictionary:\n",
    "print(f\"Original Books, Book1's authors: {books['Book1']['authors']}\")\n",
    "print(f\"Shallow Copy of Books, Book1's authors: {books_deep_copy['Book1']['authors']}\")\n",
    "print(\"Modifying the inner dictionary in a deep copy, will not effect on the original dictionary.\")\n",
    "print(\"Because the inners dictionaries have different IDs through deep copy:\")\n",
    "print(f\"ID of Book1 in original Books: {id(books['Book1'])}\")\n",
    "print(f\"ID of Book1 in deep copy of Books: {id(books_deep_copy['Book1'])}\")"
   ]
  },
  {
   "cell_type": "markdown",
   "id": "0e2c870c",
   "metadata": {},
   "source": [
    "<div style=\"color: white;padding-top:18px;text-align:center;background-color:#610C9F;border-radius:15px;border: 1px solid white;\"> \n",
    "    <h3>Exercise 12 (score:300)</h3>\n",
    "</div>"
   ]
  },
  {
   "cell_type": "markdown",
   "id": "98cda4ff",
   "metadata": {},
   "source": [
    "<div style=\"color: white;padding-top:18px;text-align:left;background-color:#940B92;border-radius:15px;border: 1px solid white;\"> \n",
    "    <h4>Question 01 (File Handling)</h4>\n",
    "<p>\n",
    "Write a Python program to analyze text files in a directory structure. You \n",
    "are given a directory named root_folder containing various files (.txt, .py, \n",
    ".pdf, .ipynb) and subfolders. Your program should:\n",
    "</p>\n",
    "<ul>Traverse root_folder to find all .txt files.</ul>\n",
    "<ul>For each .txt file, calculate:</ul>\n",
    "<ul>The number of lines.</ul>\n",
    "<ul>The number of unique words.</ul>\n",
    "<ul>Create and write these details into a new file named text_file_analysis.txt.</ul>\n",
    "</div>"
   ]
  },
  {
   "cell_type": "code",
   "execution_count": 6,
   "id": "e3856ce6",
   "metadata": {},
   "outputs": [
    {
     "name": "stdout",
     "output_type": "stream",
     "text": [
      "Document: ./root_folder\\t1.txt: #lines: 5, #unique words: 3\n",
      "Document: ./root_folder\\t2.txt: #lines: 2, #unique words: 4\n",
      "Document: ./root_folder\\t3.txt: #lines: 5, #unique words: 5\n",
      "Document: ./root_folder\\sub_folder_1\\t4.txt: #lines: 1, #unique words: 2\n"
     ]
    }
   ],
   "source": [
    "import os\n",
    "\n",
    "def find_txt_files_details(directory):\n",
    "    files_details = [] # a list of 3-tuples: (file_path: str, num_lines: int, num_unique_words: int)\n",
    "    for path, dirs, files in list(os.walk(directory)): # list of 3-tuples : (path: str, sub_folders_in_path: list, files_in_path: list)\n",
    "        for file in files:\n",
    "            ext = file.split('.')[-1]\n",
    "            if ext == \"txt\":\n",
    "                ## Working with file:\n",
    "                file_path = os.path.join(path, file)\n",
    "                with open(file_path, \"r\") as f:\n",
    "                    data = f.read() # data is a str\n",
    "                    num_lines = len(data.split(\"\\n\")) # lines are seperated by new line character '\\n'\n",
    "                    num_unique_words = len(set(data.split())) # default value: any whitespace characters\n",
    "                    files_details.append((file_path, num_lines, num_unique_words)) # append a 3-tuple to the list\n",
    "                    ##print(set(data.split()))    \n",
    "    \n",
    "    ## Write details to a file\n",
    "    with open(\"text_file_analysis.txt\", \"w\") as f_write:\n",
    "        f_write.writelines(\"Path_of_file\\tnumber_of_lines\\tnumber_of_unique_words\\n\") # write header\n",
    "        for p, lines, un_words in files_details:\n",
    "            line = p + '\\t' + str(lines) + '\\t' + str(un_words) + '\\n'\n",
    "            f_write.writelines(line)\n",
    "    return files_details\n",
    "\n",
    "## ------------------------Main-----------------------------------\n",
    "directory = \"./root_folder\"\n",
    "details = find_txt_files_details(directory)\n",
    "## print details in console\n",
    "for p, lines, un_words in details:\n",
    "    print(f\"Document: {p}: #lines: {lines}, #unique words: {un_words}\")"
   ]
  },
  {
   "cell_type": "markdown",
   "id": "e53e31ab",
   "metadata": {},
   "source": [
    "<div style=\"color: white;padding-top:18px;text-align:left;background-color:#940B92;border-radius:15px;border: 1px solid white;\"> \n",
    "    <h4>Question 02 (File Handling)</h4>\n",
    "<p>\n",
    "Write a program that prompts the user to input a file extension (like \n",
    "\"py\"), then searches the user's Desktop and its subdirectories for all \n",
    "files with that extension. The program should count and display the \n",
    "total number of matching files found.\n",
    "</p>\n",
    "</div>"
   ]
  },
  {
   "cell_type": "code",
   "execution_count": 7,
   "id": "3898639a",
   "metadata": {},
   "outputs": [
    {
     "name": "stdout",
     "output_type": "stream",
     "text": [
      "Desktop Directory: C:\\Users\\MIS\\Desktop\n",
      "Enter a file extension to search: docx\n",
      "Number of .docx files on desktop: 4\n",
      "C:\\Users\\MIS\\Desktop\\AIR1401_HWs_doc\\AIR1401_HW1.docx\n",
      "C:\\Users\\MIS\\Desktop\\AIR1401_HWs_doc\\AIR1401_HW2.docx\n",
      "C:\\Users\\MIS\\Desktop\\AIR1401_HWs_doc\\AIR1401_HW3.docx\n",
      "C:\\Users\\MIS\\Desktop\\AIR1401_HWs_doc\\AIR1401_Proposal.docx\n"
     ]
    }
   ],
   "source": [
    "import os\n",
    "\n",
    "directory = os.path.join(os.path.join(os.environ['USERPROFILE']), 'Desktop') # user's Desktop on windows\n",
    "print(f\"Desktop Directory: {directory}\")\n",
    "\n",
    "user_ext = input(\"Enter a file extension to search: \")\n",
    "found_files = []\n",
    "for path, dirs, files in list(os.walk(directory)): # list of 3-tuples : (path: str, sub_folders_in_path: list, files_in_path: list)\n",
    "    for file in files:\n",
    "        ext = file.split('.')[-1]\n",
    "        if ext == user_ext:\n",
    "            file_path = os.path.join(path, file)\n",
    "            found_files.append(file_path) # append a file directory to the list\n",
    "\n",
    "## show the found files:\n",
    "if found_files:\n",
    "    print(f\"Number of .{user_ext} files on desktop: {len(found_files)}\")\n",
    "    for file in found_files:\n",
    "        print(file)\n",
    "else:\n",
    "    print(f\"There is no file with extension '{user_ext}' in Desktop.\")"
   ]
  }
 ],
 "metadata": {
  "kernelspec": {
   "display_name": "Python 3 (ipykernel)",
   "language": "python",
   "name": "python3"
  },
  "language_info": {
   "codemirror_mode": {
    "name": "ipython",
    "version": 3
   },
   "file_extension": ".py",
   "mimetype": "text/x-python",
   "name": "python",
   "nbconvert_exporter": "python",
   "pygments_lexer": "ipython3",
   "version": "3.10.9"
  }
 },
 "nbformat": 4,
 "nbformat_minor": 5
}
