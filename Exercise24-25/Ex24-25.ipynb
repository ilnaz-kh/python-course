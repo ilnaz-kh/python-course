{
 "cells": [
  {
   "cell_type": "markdown",
   "metadata": {},
   "source": [
    "## Exercise 24\n",
    "The MySQL queries that are required are provided below:"
   ]
  },
  {
   "cell_type": "code",
   "execution_count": null,
   "metadata": {},
   "outputs": [],
   "source": [
    "\"\"\"\n",
    "CREATE DATABASE university;\n",
    "\"\"\"\n",
    "## SHOW DATABASES;"
   ]
  },
  {
   "cell_type": "code",
   "execution_count": null,
   "metadata": {},
   "outputs": [],
   "source": [
    "\"\"\"\n",
    "USE university\n",
    "\"\"\""
   ]
  },
  {
   "cell_type": "markdown",
   "metadata": {},
   "source": [
    "### Create Tables (students, courses, enrollments)"
   ]
  },
  {
   "cell_type": "code",
   "execution_count": null,
   "metadata": {},
   "outputs": [],
   "source": [
    "\"\"\"\n",
    "CREATE TABLE students(\n",
    "student_id INT NOT NULL AUTO_INCREMENT,\n",
    "first_name VARCHAR(255) NOT NULL,\n",
    "last_name VARCHAR(255) NOT NULL,\n",
    "date_of_birth DATE,\n",
    "email VARCHAR(255),\n",
    "PRIMARY KEY (student_id)\n",
    ");\n",
    "\"\"\"\n",
    "## SHOW TABLES;\n",
    "## SHOW FIELDS FROM students;"
   ]
  },
  {
   "cell_type": "code",
   "execution_count": null,
   "metadata": {},
   "outputs": [],
   "source": [
    "\"\"\"\n",
    "CREATE TABLE courses(\n",
    "course_id INT NOT NULL AUTO_INCREMENT,\n",
    "course_name VARCHAR(255) NOT NULL,\n",
    "instructor VARCHAR(255),\n",
    "PRIMARY KEY (course_id)\n",
    ");\n",
    "\"\"\"\n",
    "## SHOW TABLES;\n",
    "## SHOW FIELDS FROM courses;"
   ]
  },
  {
   "cell_type": "code",
   "execution_count": null,
   "metadata": {},
   "outputs": [],
   "source": [
    "\"\"\"\n",
    "CREATE TABLE enrollments(\n",
    "enrollment_id INT NOT NULL AUTO_INCREMENT,\n",
    "student_id INT NOT NULL,\n",
    "course_id INT NOT NULL,\n",
    "enrollment_date DATE,\n",
    "PRIMARY KEY (enrollment_id),\n",
    "FOREIGN KEY (student_id) REFERENCES students (student_id),\n",
    "FOREIGN KEY (course_id) REFERENCES courses (course_id)\n",
    ");\n",
    "\"\"\"\n",
    "## SHOW TABLES;\n",
    "## SHOW FIELDS FROM enrollments;"
   ]
  },
  {
   "cell_type": "markdown",
   "metadata": {},
   "source": [
    "### 1. Data Insertion:"
   ]
  },
  {
   "cell_type": "code",
   "execution_count": null,
   "metadata": {},
   "outputs": [],
   "source": [
    "## Data Insertion:\n",
    "\"\"\"\n",
    "INSERT INTO students (first_name, last_name, date_of_birth)\n",
    "VALUES\n",
    "('Koosha', 'Rahnama', '2002-04-23'),\n",
    "('Maryam', 'Ahmadi', '1999-02-01'),\n",
    "('Aida', 'Mohammadi', '1998-03-12'),\n",
    "('Reza', 'Rad', '2000-07-15'),\n",
    "('Mona', 'Hashemi', '2000-12-23'),\n",
    "('Reza', 'Maleki', '1999-06-23'),\n",
    "('Ali', 'Mirzaei', '2001-04-07');\n",
    "\"\"\"\n",
    "## SELECT * FROM students;\n",
    "\n",
    "\"\"\"\n",
    "INSERT INTO courses (course_name, instructor)\n",
    "VALUES\n",
    "('Introduction to Java', 'Bakhshandeh'),\n",
    "('Data Structure', 'Hadian'),\n",
    "('DataBase', 'Basiri'),\n",
    "('Adavnced Java', 'Bakhshandeh');\n",
    "\"\"\"\n",
    "## SELECT * FROM courses;\n",
    "\n",
    "\"\"\"\n",
    "INSERT INTO enrollments (student_id, course_id, enrollment_date)\n",
    "VALUES\n",
    "(1, 2, NOW()),\n",
    "(1, 3, NOW()),\n",
    "(1, 4, NOW()),\n",
    "(2, 1, NOW()),\n",
    "(2, 2, NOW()),\n",
    "(3, 1, NOW()),\n",
    "(3, 2, NOW()),\n",
    "(5, 3, NOW()),\n",
    "(6, 1, NOW()),\n",
    "(6, 2, NOW()),\n",
    "(7, 2, NOW()),\n",
    "(7, 3, NOW()),\n",
    "(7, 4, NOW());\n",
    "\"\"\"\n",
    "## SELECT * FROM enrollments;"
   ]
  },
  {
   "cell_type": "markdown",
   "metadata": {},
   "source": [
    "### 2. Querying Student Enrollments:"
   ]
  },
  {
   "cell_type": "code",
   "execution_count": null,
   "metadata": {},
   "outputs": [],
   "source": [
    "## 2. Querying Student Enrollments:\n",
    "\"\"\"\n",
    "SELECT first_name, last_name, COUNT(enrollment_id) AS number_of_enrolls FROM students \n",
    "LEFT JOIN enrollments\n",
    "ON students.student_id = enrollments.student_id\n",
    "GROUP BY students.student_id;\n",
    "\"\"\""
   ]
  },
  {
   "cell_type": "markdown",
   "metadata": {},
   "source": [
    "### 3. Data Removal:\n",
    "In order to address this problem and mitigate potential errors, we employed three queries. Initially, we stored the `student_id` of students who either enrolled in a course or had no enrollments in a temporary table named `temp_students`. Subsequently, to eliminate dependencies between the `students` and `enrollments` tables, we removed the enrollments from the `enrollments` table that had a corresponding `student_id` in the `temp_students` table. Finally, we removed the students from the `students` table whose IDs were present in the `temp_students` table.\n"
   ]
  },
  {
   "cell_type": "code",
   "execution_count": null,
   "metadata": {},
   "outputs": [],
   "source": [
    "## 3. Data Removal\n",
    "\"\"\"\n",
    "CREATE TEMPORARY TABLE temp_students AS\n",
    "SELECT students.student_id\n",
    "FROM students\n",
    "LEFT JOIN enrollments ON students.student_id = enrollments.student_id\n",
    "GROUP BY students.student_id\n",
    "HAVING COUNT(enrollments.enrollment_id) < 2;\n",
    "\n",
    "DELETE FROM enrollments\n",
    "WHERE student_id IN (\n",
    "    SELECT student_id\n",
    "    FROM temp_students\n",
    ");\n",
    "\n",
    "DELETE FROM students\n",
    "WHERE student_id IN (\n",
    "    SELECT student_id\n",
    "    FROM temp_students\n",
    ");\n",
    "\"\"\""
   ]
  },
  {
   "cell_type": "markdown",
   "metadata": {},
   "source": [
    "### 4. Updating Course Names"
   ]
  },
  {
   "cell_type": "code",
   "execution_count": null,
   "metadata": {},
   "outputs": [],
   "source": [
    "## 4. Updating Course Names\n",
    "\n",
    "\"\"\"\n",
    "UPDATE courses\n",
    "SET course_name = 'Python'\n",
    "WHERE course_name LIKE '%JAVA%';\n",
    "\"\"\"\n",
    "## SELECT * FROM courses;"
   ]
  },
  {
   "cell_type": "markdown",
   "metadata": {},
   "source": [
    "## Exercise 25\n",
    "Write question 24 by mysql.connector library."
   ]
  },
  {
   "cell_type": "code",
   "execution_count": 1,
   "metadata": {},
   "outputs": [
    {
     "data": {
      "text/plain": [
       "[('db1',),\n",
       " ('information_schema',),\n",
       " ('mysql',),\n",
       " ('onlineshop',),\n",
       " ('performance_schema',),\n",
       " ('sakila',),\n",
       " ('sys',),\n",
       " ('university',),\n",
       " ('world',)]"
      ]
     },
     "execution_count": 1,
     "metadata": {},
     "output_type": "execute_result"
    }
   ],
   "source": [
    "## import Library:\n",
    "import mysql.connector\n",
    "from mysql.connector import Error \n",
    "\n",
    "## Connecting to MySQL:\n",
    "mydb = mysql.connector.connect(\n",
    "    host = \"localhost\",\n",
    "    user = \"root\",\n",
    "    password = \"pass\"\n",
    ")\n",
    "\n",
    "## Create a cursor:\n",
    "mycursor = mydb.cursor()\n",
    "\n",
    "## Create database:\n",
    "sql = \"Create DATABASE university\"\n",
    "try:\n",
    "    mycursor.execute(sql)\n",
    "except Error as e:\n",
    "    print(e)\n",
    "\n",
    "## Ensure the database has been created:\n",
    "sql = \"SHOW DATABASES;\"\n",
    "try: \n",
    "    mycursor.execute(sql)\n",
    "except Error as e:\n",
    "    print(e)\n",
    "mycursor.fetchall() # returns a list of 1-tuples"
   ]
  },
  {
   "cell_type": "code",
   "execution_count": 2,
   "metadata": {},
   "outputs": [],
   "source": [
    "## Connecting to a specific database:\n",
    "try:\n",
    "    mydb = mysql.connector.connect(\n",
    "        host = \"localhost\",\n",
    "        user = \"root\",\n",
    "        password = \"pass\",\n",
    "        database = \"university\"\n",
    "    )\n",
    "except Error as e:\n",
    "    print(e)\n",
    "    \n",
    "## Create a cursor:\n",
    "mycursor = mydb.cursor()"
   ]
  },
  {
   "cell_type": "markdown",
   "metadata": {},
   "source": [
    "### Create Tables (students, courses, enrollments)"
   ]
  },
  {
   "cell_type": "code",
   "execution_count": 3,
   "metadata": {},
   "outputs": [
    {
     "data": {
      "text/plain": [
       "[('students',)]"
      ]
     },
     "execution_count": 3,
     "metadata": {},
     "output_type": "execute_result"
    }
   ],
   "source": [
    "sql = \"\"\"\n",
    "        CREATE TABLE students(\n",
    "        student_id INT NOT NULL AUTO_INCREMENT,\n",
    "        first_name VARCHAR(255) NOT NULL,\n",
    "        last_name VARCHAR(255) NOT NULL,\n",
    "        date_of_birth DATE,\n",
    "        email VARCHAR(255),\n",
    "        PRIMARY KEY (student_id)\n",
    "        );\n",
    "\"\"\"\n",
    "try: \n",
    "    mycursor.execute(sql)\n",
    "except Error as e:\n",
    "    print(e)\n",
    "\n",
    "sql = \"SHOW TABLES;\"\n",
    "try:\n",
    "    mycursor.execute(sql)\n",
    "except Error as e:\n",
    "    print(e)\n",
    "mycursor.fetchall() # returns a list of 1-tuples"
   ]
  },
  {
   "cell_type": "code",
   "execution_count": 4,
   "metadata": {},
   "outputs": [
    {
     "data": {
      "text/plain": [
       "[('courses',), ('students',)]"
      ]
     },
     "execution_count": 4,
     "metadata": {},
     "output_type": "execute_result"
    }
   ],
   "source": [
    "sql = \"\"\"\n",
    "        CREATE TABLE courses(\n",
    "        course_id INT NOT NULL AUTO_INCREMENT,\n",
    "        course_name VARCHAR(255) NOT NULL,\n",
    "        instructor VARCHAR(255),\n",
    "        PRIMARY KEY (course_id)\n",
    "        );\n",
    "\"\"\"\n",
    "\n",
    "try: \n",
    "    mycursor.execute(sql)\n",
    "except Error as e:\n",
    "    print(e)\n",
    "\n",
    "sql = \"SHOW TABLES;\"\n",
    "try:\n",
    "    mycursor.execute(sql)\n",
    "except Error as e:\n",
    "    print(e)\n",
    "mycursor.fetchall() # returns a list of 1-tuples"
   ]
  },
  {
   "cell_type": "code",
   "execution_count": 5,
   "metadata": {},
   "outputs": [
    {
     "data": {
      "text/plain": [
       "[('courses',), ('enrollments',), ('students',)]"
      ]
     },
     "execution_count": 5,
     "metadata": {},
     "output_type": "execute_result"
    }
   ],
   "source": [
    "sql = \"\"\"\n",
    "        CREATE TABLE enrollments(\n",
    "        enrollment_id INT NOT NULL AUTO_INCREMENT,\n",
    "        student_id INT NOT NULL,\n",
    "        course_id INT NOT NULL,\n",
    "        enrollment_date DATE,\n",
    "        PRIMARY KEY (enrollment_id),\n",
    "        FOREIGN KEY (student_id) REFERENCES students (student_id),\n",
    "        FOREIGN KEY (course_id) REFERENCES courses (course_id)\n",
    ");\n",
    "\"\"\"\n",
    "\n",
    "try: \n",
    "    mycursor.execute(sql)\n",
    "except Error as e:\n",
    "    print(e)\n",
    "\n",
    "sql = \"SHOW TABLES;\"\n",
    "try:\n",
    "    mycursor.execute(sql)\n",
    "except Error as e:\n",
    "    print(e)\n",
    "mycursor.fetchall() # returns a list of 1-tuples"
   ]
  },
  {
   "cell_type": "markdown",
   "metadata": {},
   "source": [
    "### 1. Data Insertion:"
   ]
  },
  {
   "cell_type": "code",
   "execution_count": 6,
   "metadata": {},
   "outputs": [
    {
     "data": {
      "text/plain": [
       "[(1, 'Koosha', 'Rahnama', datetime.date(2002, 4, 23), None),\n",
       " (2, 'Maryam', 'Ahmadi', datetime.date(1999, 2, 1), None),\n",
       " (3, 'Aida', 'Mohammadi', datetime.date(1998, 3, 12), None),\n",
       " (4, 'Reza', 'Rad', datetime.date(2000, 7, 15), None),\n",
       " (5, 'Mona', 'Hashemi', datetime.date(2000, 12, 23), None),\n",
       " (6, 'Reza', 'Maleki', datetime.date(1999, 6, 23), None),\n",
       " (7, 'Ali', 'Mirzaei', datetime.date(2001, 4, 7), None)]"
      ]
     },
     "execution_count": 6,
     "metadata": {},
     "output_type": "execute_result"
    }
   ],
   "source": [
    "sql = \"\"\"\n",
    "        INSERT INTO students (first_name, last_name, date_of_birth)\n",
    "        VALUES\n",
    "        ('Koosha', 'Rahnama', '2002-04-23'),\n",
    "        ('Maryam', 'Ahmadi', '1999-02-01'),\n",
    "        ('Aida', 'Mohammadi', '1998-03-12'),\n",
    "        ('Reza', 'Rad', '2000-07-15'),\n",
    "        ('Mona', 'Hashemi', '2000-12-23'),\n",
    "        ('Reza', 'Maleki', '1999-06-23'),\n",
    "        ('Ali', 'Mirzaei', '2001-04-07');\n",
    "\"\"\"\n",
    "try: \n",
    "    mycursor.execute(sql)\n",
    "    mydb.commit()\n",
    "except Error as e:\n",
    "    print(e)\n",
    "\n",
    "sql = \"SELECT * FROM students\"\n",
    "try:\n",
    "    mycursor.execute(sql)\n",
    "except Error as e:\n",
    "    print(e)\n",
    "mycursor.fetchall() # returns a list of tuples"
   ]
  },
  {
   "cell_type": "code",
   "execution_count": 7,
   "metadata": {},
   "outputs": [
    {
     "data": {
      "text/plain": [
       "[(1, 'Introduction to Java', 'Bakhshandeh'),\n",
       " (2, 'Data Structure', 'Hadian'),\n",
       " (3, 'DataBase', 'Basiri'),\n",
       " (4, 'Adavnced Java', 'Bakhshandeh')]"
      ]
     },
     "execution_count": 7,
     "metadata": {},
     "output_type": "execute_result"
    }
   ],
   "source": [
    "sql = \"\"\"\n",
    "        INSERT INTO courses (course_name, instructor)\n",
    "        VALUES\n",
    "        ('Introduction to Java', 'Bakhshandeh'),\n",
    "        ('Data Structure', 'Hadian'),\n",
    "        ('DataBase', 'Basiri'),\n",
    "        ('Adavnced Java', 'Bakhshandeh');\n",
    "\"\"\"\n",
    "try: \n",
    "    mycursor.execute(sql)\n",
    "    mydb.commit()\n",
    "except Error as e:\n",
    "    print(e)\n",
    "\n",
    "sql = \"SELECT * FROM courses\"\n",
    "try:\n",
    "    mycursor.execute(sql)\n",
    "except Error as e:\n",
    "    print(e)\n",
    "\n",
    "mycursor.fetchall() # returns a list of tuples"
   ]
  },
  {
   "cell_type": "code",
   "execution_count": 8,
   "metadata": {},
   "outputs": [
    {
     "data": {
      "text/plain": [
       "[(1, 1, 2, datetime.date(2024, 1, 10)),\n",
       " (2, 1, 3, datetime.date(2024, 1, 10)),\n",
       " (3, 1, 4, datetime.date(2024, 1, 10)),\n",
       " (4, 2, 1, datetime.date(2024, 1, 10)),\n",
       " (5, 2, 2, datetime.date(2024, 1, 10)),\n",
       " (6, 3, 1, datetime.date(2024, 1, 10)),\n",
       " (7, 3, 2, datetime.date(2024, 1, 10)),\n",
       " (8, 5, 3, datetime.date(2024, 1, 10)),\n",
       " (9, 6, 1, datetime.date(2024, 1, 10)),\n",
       " (10, 6, 2, datetime.date(2024, 1, 10)),\n",
       " (11, 7, 2, datetime.date(2024, 1, 10)),\n",
       " (12, 7, 3, datetime.date(2024, 1, 10)),\n",
       " (13, 7, 4, datetime.date(2024, 1, 10))]"
      ]
     },
     "execution_count": 8,
     "metadata": {},
     "output_type": "execute_result"
    }
   ],
   "source": [
    "sql = \"\"\"\n",
    "        INSERT INTO enrollments (student_id, course_id, enrollment_date)\n",
    "        VALUES\n",
    "        (1, 2, NOW()),\n",
    "        (1, 3, NOW()),\n",
    "        (1, 4, NOW()),\n",
    "        (2, 1, NOW()),\n",
    "        (2, 2, NOW()),\n",
    "        (3, 1, NOW()),\n",
    "        (3, 2, NOW()),\n",
    "        (5, 3, NOW()),\n",
    "        (6, 1, NOW()),\n",
    "        (6, 2, NOW()),\n",
    "        (7, 2, NOW()),\n",
    "        (7, 3, NOW()),\n",
    "        (7, 4, NOW());\n",
    "\"\"\"\n",
    "try: \n",
    "    mycursor.execute(sql)\n",
    "    mydb.commit()\n",
    "except Error as e:\n",
    "    print(e)\n",
    "\n",
    "sql = \"SELECT * FROM enrollments\"\n",
    "try:\n",
    "    mycursor.execute(sql)\n",
    "except Error as e:\n",
    "    print(e)\n",
    "mycursor.fetchall() "
   ]
  },
  {
   "cell_type": "markdown",
   "metadata": {},
   "source": [
    "### 2. Querying Student Enrollments:"
   ]
  },
  {
   "cell_type": "code",
   "execution_count": 9,
   "metadata": {},
   "outputs": [
    {
     "data": {
      "text/plain": [
       "[('Koosha', 'Rahnama', 3),\n",
       " ('Maryam', 'Ahmadi', 2),\n",
       " ('Aida', 'Mohammadi', 2),\n",
       " ('Reza', 'Rad', 0),\n",
       " ('Mona', 'Hashemi', 1),\n",
       " ('Reza', 'Maleki', 2),\n",
       " ('Ali', 'Mirzaei', 3)]"
      ]
     },
     "execution_count": 9,
     "metadata": {},
     "output_type": "execute_result"
    }
   ],
   "source": [
    "sql = \"\"\"\n",
    "        SELECT first_name, last_name, COUNT(enrollment_id) AS number_of_enrolls FROM students \n",
    "        LEFT JOIN enrollments\n",
    "        ON students.student_id = enrollments.student_id\n",
    "        GROUP BY students.student_id;\n",
    "\"\"\"\n",
    "try: \n",
    "    mycursor.execute(sql)\n",
    "except Error as e:\n",
    "    print(e)\n",
    "mycursor.fetchall()"
   ]
  },
  {
   "cell_type": "markdown",
   "metadata": {},
   "source": [
    "### 3. Data Removal:"
   ]
  },
  {
   "cell_type": "code",
   "execution_count": 10,
   "metadata": {},
   "outputs": [
    {
     "data": {
      "text/plain": [
       "[(1, 'Koosha', 'Rahnama', datetime.date(2002, 4, 23), None),\n",
       " (2, 'Maryam', 'Ahmadi', datetime.date(1999, 2, 1), None),\n",
       " (3, 'Aida', 'Mohammadi', datetime.date(1998, 3, 12), None),\n",
       " (6, 'Reza', 'Maleki', datetime.date(1999, 6, 23), None),\n",
       " (7, 'Ali', 'Mirzaei', datetime.date(2001, 4, 7), None)]"
      ]
     },
     "execution_count": 10,
     "metadata": {},
     "output_type": "execute_result"
    }
   ],
   "source": [
    "sql = \"\"\"\n",
    "        CREATE TEMPORARY TABLE temp_students AS\n",
    "        SELECT students.student_id\n",
    "        FROM students\n",
    "        LEFT JOIN enrollments ON students.student_id = enrollments.student_id\n",
    "        GROUP BY students.student_id\n",
    "        HAVING COUNT(enrollments.enrollment_id) < 2;\n",
    "\"\"\"\n",
    "try: \n",
    "    mycursor.execute(sql)\n",
    "except Error as e:\n",
    "    print(e)\n",
    "\n",
    "sql = \"\"\"\n",
    "        DELETE FROM enrollments\n",
    "        WHERE student_id IN (\n",
    "            SELECT student_id\n",
    "            FROM temp_students\n",
    "        );\n",
    "\"\"\"\n",
    "try: \n",
    "    mycursor.execute(sql)\n",
    "    mydb.commit()\n",
    "except Error as e:\n",
    "    print(e)\n",
    "\n",
    "sql = \"\"\"\n",
    "        DELETE FROM students\n",
    "        WHERE student_id IN (\n",
    "            SELECT student_id\n",
    "            FROM temp_students\n",
    "        );\n",
    "\"\"\"\n",
    "try: \n",
    "    mycursor.execute(sql)\n",
    "    mydb.commit()\n",
    "except Error as e:\n",
    "    print(e)\n",
    "\n",
    "## Show results:\n",
    "sql = \"SELECT * FROM enrollments\"\n",
    "try:\n",
    "    mycursor.execute(sql)\n",
    "except Error as e:\n",
    "    print(e)\n",
    "mycursor.fetchall()\n",
    "\n",
    "sql = \"SELECT * FROM students\"\n",
    "try:\n",
    "    mycursor.execute(sql)\n",
    "except Error as e:\n",
    "    print(e)\n",
    "mycursor.fetchall()"
   ]
  },
  {
   "cell_type": "markdown",
   "metadata": {},
   "source": [
    "### 4. Updating Course Names:"
   ]
  },
  {
   "cell_type": "code",
   "execution_count": 11,
   "metadata": {},
   "outputs": [
    {
     "data": {
      "text/plain": [
       "[(1, 'Python', 'Bakhshandeh'),\n",
       " (2, 'Data Structure', 'Hadian'),\n",
       " (3, 'DataBase', 'Basiri'),\n",
       " (4, 'Python', 'Bakhshandeh')]"
      ]
     },
     "execution_count": 11,
     "metadata": {},
     "output_type": "execute_result"
    }
   ],
   "source": [
    "sql = \"\"\"\n",
    "        UPDATE courses\n",
    "        SET course_name = 'Python'\n",
    "        WHERE course_name LIKE '%JAVA%';\n",
    "\"\"\"\n",
    "try: \n",
    "    mycursor.execute(sql)\n",
    "    mydb.commit()\n",
    "except Error as e:\n",
    "    print(e)\n",
    "\n",
    "sql = \"SELECT * FROM courses\"\n",
    "try:\n",
    "    mycursor.execute(sql)\n",
    "except Error as e:\n",
    "    print(e)\n",
    "mycursor.fetchall()"
   ]
  }
 ],
 "metadata": {
  "kernelspec": {
   "display_name": "base",
   "language": "python",
   "name": "python3"
  },
  "language_info": {
   "codemirror_mode": {
    "name": "ipython",
    "version": 3
   },
   "file_extension": ".py",
   "mimetype": "text/x-python",
   "name": "python",
   "nbconvert_exporter": "python",
   "pygments_lexer": "ipython3",
   "version": "3.10.9"
  }
 },
 "nbformat": 4,
 "nbformat_minor": 2
}
